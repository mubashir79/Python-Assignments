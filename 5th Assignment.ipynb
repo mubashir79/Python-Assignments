{
 "cells": [
  {
   "cell_type": "code",
   "execution_count": 3,
   "metadata": {},
   "outputs": [
    {
     "name": "stdout",
     "output_type": "stream",
     "text": [
      "Input a number to compute the factiorial : 6\n",
      "720\n"
     ]
    }
   ],
   "source": [
    "#Question:1\n",
    "#Write a Python function to calculate the factorial of a number (a non-negative\n",
    "#integer). The function accepts the number as an argument.\n",
    "\n",
    "def factorial(n):\n",
    "    if n < 0:\n",
    "      return 0\n",
    "    if n == 0:\n",
    "        return 1\n",
    "    else:\n",
    "        return n * factorial(n-1)\n",
    "n=int(input(\"Input a number to compute the factiorial : \"))\n",
    "print(factorial(n))"
   ]
  },
  {
   "cell_type": "code",
   "execution_count": 6,
   "metadata": {},
   "outputs": [
    {
     "name": "stdout",
     "output_type": "stream",
     "text": [
      "Enter any senectence :Mubashir Hussain\n",
      "Actual Sentence :  Mubashir Hussain\n",
      "Total No of Upper case characters :  2\n",
      "Total No of Lower case Characters :  13\n"
     ]
    }
   ],
   "source": [
    "#Question:2\n",
    "#Write a Python function that accepts a string and calculate the number of upper\n",
    "#case letters and lower case letters.\n",
    "\n",
    "def character_count(value):\n",
    "    d={\"UPPER\":0, \"LOWER\":0}\n",
    "\n",
    "    for c in value:\n",
    "        if c.isupper():\n",
    "           d[\"UPPER\"]+=1\n",
    "        elif c.islower():\n",
    "           d[\"LOWER\"]+=1\n",
    "\n",
    "        print (\"Actual Sentence : \", value)\n",
    "    print (\"Total No of Upper case characters : \", d[\"UPPER\"])\n",
    "    print (\"Total No of Lower case Characters : \", d[\"LOWER\"])\n",
    "\n",
    "sentence = input(\"Enter any senectence :\" )\n",
    "character_count(sentence)\n"
   ]
  },
  {
   "cell_type": "code",
   "execution_count": 7,
   "metadata": {},
   "outputs": [
    {
     "name": "stdout",
     "output_type": "stream",
     "text": [
      "[2, 4, 6, 8]\n"
     ]
    }
   ],
   "source": [
    "#Question:3\n",
    "#Write a Python function to print the even numbers from a given list.\n",
    "\n",
    "def is_even_num(list):\n",
    "    num_list = []\n",
    "    for n in list:\n",
    "        if n % 2 == 0:\n",
    "            num_list.append(n)\n",
    "    return num_list\n",
    "print(is_even_num([1, 2, 3, 4, 5, 6, 7, 8, 9]))\n",
    "\n"
   ]
  },
  {
   "cell_type": "code",
   "execution_count": 8,
   "metadata": {},
   "outputs": [
    {
     "name": "stdout",
     "output_type": "stream",
     "text": [
      "Input string to check if it is palindrome : Madam\n",
      "Yes string is palindrome\n"
     ]
    }
   ],
   "source": [
    "#Question:4\n",
    "#Write a Python function that checks whether a passed string is palindrome or not.\n",
    "#Note: A palindrome is a word, phrase, or sequence that reads the same\n",
    "#backward as forward, e.g., madam\n",
    "\n",
    "def isPalindrome(value): \n",
    "  palindrome_string =\"\"\n",
    "  for i in value: \n",
    "    palindrome_string = i + palindrome_string\n",
    "\n",
    "  if (value == palindrome_string): \n",
    "    print(\"Yes string is palindrome\") \n",
    "  else:\n",
    "    print(\"No it is not palindrome\") \n",
    "    \n",
    "input_string = input(\"Input string to check if it is palindrome : \").lower()\n",
    "\n",
    "isPalindrome(input_string)\n"
   ]
  },
  {
   "cell_type": "code",
   "execution_count": 9,
   "metadata": {},
   "outputs": [
    {
     "name": "stdout",
     "output_type": "stream",
     "text": [
      "Enter any number: 4\n",
      "4 is not a prime number\n"
     ]
    }
   ],
   "source": [
    "#Question:5\n",
    "#Write a Python function that takes a number as a parameter and check the\n",
    "#number is prime or not.\n",
    "\n",
    "def isPrime(number) : \n",
    "  # prime number is always greater than 1\n",
    "  if number > 1:\n",
    "      for i in range(2, number):\n",
    "          if (number % i) == 0:\n",
    "              print(number, \"is not a prime number\")\n",
    "              break\n",
    "      else:\n",
    "          print(number, \"is a prime number\")\n",
    "\n",
    "  # if the entered number is less than or equal to 1\n",
    "  # then it is not prime number\n",
    "  else:\n",
    "      print(number, \"is not a prime number\")\n",
    "\n",
    "  \n",
    "\n",
    "number = int(input(\"Enter any number: \"))\n",
    "isPrime(number)\n"
   ]
  },
  {
   "cell_type": "code",
   "execution_count": 21,
   "metadata": {},
   "outputs": [
    {
     "name": "stdout",
     "output_type": "stream",
     "text": [
      "==========================\n",
      "      Press x to Exit       \n",
      "============================\n",
      "Enter item...Apple\n",
      "Enter item...Guava\n",
      "Enter item...x\n",
      "Your Shopping List is('Apple', 'Guava')\n"
     ]
    }
   ],
   "source": [
    "#Question: 6\n",
    "#Suppose a customer is shopping in a market and you need to print all the items\n",
    "#which user bought from market.\n",
    "#Write a function which accepts the multiple arguments of user shopping list and\n",
    "#print all the items which user bought from market.\n",
    "\n",
    "def shopping_list(*string):\n",
    "    print(\"Your Shopping List is\" + str(string))\n",
    "\n",
    "\n",
    "def shopping_cart():\n",
    "    \n",
    "    print(\"==========================\")\n",
    "    print(\"      Press x to Exit       \")\n",
    "    print(\"============================\")\n",
    "\n",
    "    while True:\n",
    "        userinput=input(\"Enter item...\")\n",
    "        if userinput == 'x':\n",
    "          break\n",
    "        else:\n",
    "          shop_cart.append(userinput)\n",
    "\n",
    "\n",
    "shop_cart=[]\n",
    "\n",
    "shopping_cart()\n",
    "shopping_list(*shop_cart)\n",
    "\n"
   ]
  }
 ],
 "metadata": {
  "kernelspec": {
   "display_name": "Python 3",
   "language": "python",
   "name": "python3"
  },
  "language_info": {
   "codemirror_mode": {
    "name": "ipython",
    "version": 3
   },
   "file_extension": ".py",
   "mimetype": "text/x-python",
   "name": "python",
   "nbconvert_exporter": "python",
   "pygments_lexer": "ipython3",
   "version": "3.7.4"
  }
 },
 "nbformat": 4,
 "nbformat_minor": 2
}
