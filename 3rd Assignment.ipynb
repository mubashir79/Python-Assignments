{
 "cells": [
  {
   "cell_type": "code",
   "execution_count": 18,
   "metadata": {},
   "outputs": [
    {
     "name": "stdout",
     "output_type": "stream",
     "text": [
      "Enter 1st Number2\n",
      "Enter the operation i.e +,-, *, /, ****\n",
      "Enter 2nd Number2\n",
      "4\n"
     ]
    }
   ],
   "source": [
    "#Q1 Make a calculator using Python with addition, subtraction, multiplication, division and power.\n",
    "\n",
    "num1=0\n",
    "operator=\"\"\n",
    "num2=0\n",
    "\n",
    "num1 = int(input(\"Enter 1st Number \"))\n",
    "operator = str(input(\"Enter the operation i.e +,-, *, /, ** \"))\n",
    "num2 = int(input(\"Enter 2nd Number \"))\n",
    "result=0\n",
    "\n",
    "if operator == \"+\":\n",
    "    result = num1+num2\n",
    "elif operator == \"-\":\n",
    "    result=num1-num2\n",
    "elif operator == \"*\":\n",
    "    result=num1*num2\n",
    "elif operator == \"/\":\n",
    "    result=num1/num2\n",
    "elif operator == \"**\":\n",
    "    result=num1**num2\n",
    "   \n",
    "print(result)\n"
   ]
  },
  {
   "cell_type": "code",
   "execution_count": 20,
   "metadata": {},
   "outputs": [
    {
     "name": "stdout",
     "output_type": "stream",
     "text": [
      "Numeric value [3] is exist in the list\n"
     ]
    }
   ],
   "source": [
    "#Q2 Write a program to check if there is any numeric value in list using for loop\n",
    "\n",
    "list = ['ffd','hh',3,'ff',5]\n",
    "sum_num=0\n",
    "\n",
    "for a in range(len(list)):\n",
    "    if str(list[a]).isdigit() :\n",
    "        print(\"Numeric value [\" + str(list[a]) + \"] is exist in the list\" )\n",
    "        break\n",
    "        "
   ]
  },
  {
   "cell_type": "code",
   "execution_count": 27,
   "metadata": {},
   "outputs": [
    {
     "name": "stdout",
     "output_type": "stream",
     "text": [
      "{'first name': 'Asim', 'lastname': 'Saleem'}\n",
      "{'first name': 'Asim', 'lastname': 'Saleem', 'address': 'Bahadurabad'}\n"
     ]
    }
   ],
   "source": [
    "#Q3 Write a Python script to add a key to a dictionary\n",
    "\n",
    "student_data  = {\"first name\": \"Asim\", \"lastname\": \"Saleem\"}\n",
    "\n",
    "print (student_data)\n",
    "\n",
    "student_data[\"address\"]  = \"Bahadurabad\"\n",
    "print (student_data)\n"
   ]
  },
  {
   "cell_type": "code",
   "execution_count": 83,
   "metadata": {},
   "outputs": [
    {
     "name": "stdout",
     "output_type": "stream",
     "text": [
      "Sum of numeric values in a dictionary 160\n"
     ]
    }
   ],
   "source": [
    "#Q4 Write a Python program to sum all the numeric items in a dictionary\n",
    "\n",
    "student_data  = {\"first name\": \"Asim\", \"lastname\": \"Saleem\", \"Marks\": 80, \"Per\": 80}\n",
    "\n",
    "result=0\n",
    "\n",
    "for student_key, student_value in student_data.items() :\n",
    "    if str(student_value).isdigit() :\n",
    "        result= result + int(student_value)\n",
    "\n",
    "print(\"Sum of numeric values in a dictionary \" + str(result))\n"
   ]
  },
  {
   "cell_type": "code",
   "execution_count": 80,
   "metadata": {},
   "outputs": [
    {
     "name": "stdout",
     "output_type": "stream",
     "text": [
      "[1, 5, 6]\n"
     ]
    }
   ],
   "source": [
    "#Q5 Write a program to identify duplicate values from list\n",
    "\n",
    "list=[1, 1, 3, 7, 5, 6, 1, 5,6]\n",
    "x=set(list)\n",
    "dup=[]\n",
    "for c in x:\n",
    "    if(list.count(c)>1):\n",
    "        dup.append(c)\n",
    "print(dup)\n"
   ]
  },
  {
   "cell_type": "code",
   "execution_count": 76,
   "metadata": {},
   "outputs": [
    {
     "name": "stdout",
     "output_type": "stream",
     "text": [
      "{'first name': 'Asim', 'lastname': 'Saleem'}\n",
      "Key to add in dictionary lastname\n",
      "Key already exist in dictionary \n"
     ]
    }
   ],
   "source": [
    "#Q6 Write a Python script to check if a given key already exists in a dictionary\n",
    "\n",
    "student_data  = {\"first name\": \"Asim\", \"lastname\": \"Saleem\"}\n",
    "\n",
    "print (student_data)\n",
    "\n",
    "key = input(\"Key to add in dictionary \")\n",
    "\n",
    "key_exist = False\n",
    "\n",
    "for student_key in student_data.keys() :\n",
    "    if student_key == key :\n",
    "        print(\"Key already exist in dictionary \")\n",
    "        key_exist = True\n",
    "        break\n",
    "\n",
    "if key_exist == False:\n",
    "    print(\"Key not exist in dictionary \")\n",
    "    student_data[key]  = input(\"Input Key value to add in dictionary \")\n",
    "    print (\"Updated dictionary \" + str(student_data))\n"
   ]
  },
  {
   "cell_type": "code",
   "execution_count": null,
   "metadata": {},
   "outputs": [],
   "source": []
  },
  {
   "cell_type": "code",
   "execution_count": null,
   "metadata": {},
   "outputs": [],
   "source": []
  }
 ],
 "metadata": {
  "kernelspec": {
   "display_name": "Python 3",
   "language": "python",
   "name": "python3"
  },
  "language_info": {
   "codemirror_mode": {
    "name": "ipython",
    "version": 3
   },
   "file_extension": ".py",
   "mimetype": "text/x-python",
   "name": "python",
   "nbconvert_exporter": "python",
   "pygments_lexer": "ipython3",
   "version": "3.7.4"
  }
 },
 "nbformat": 4,
 "nbformat_minor": 2
}
