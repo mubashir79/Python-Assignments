{
 "cells": [
  {
   "cell_type": "code",
   "execution_count": 16,
   "metadata": {},
   "outputs": [
    {
     "name": "stdout",
     "output_type": "stream",
     "text": [
      "enter subject marks 1: 39\n",
      "enter subject marks 2: 3\n",
      "enter subject marks 3: 39\n",
      "enter subject marks 4: 39\n",
      "enter subject marks 5: 49\n",
      "Total Marks are : 169.0\n",
      "Percentage is : 33.800000000000004\n",
      "Your grade is E\n"
     ]
    }
   ],
   "source": [
    "# Q1 : Write a program which takes 5 inputs from user for different subject’s marks,\n",
    "# total it and generate mark sheet using grades ?\n",
    "\n",
    "subjects_marks = []\n",
    "total=0.0\n",
    "total_marks = 500;\n",
    "per=0.0;\n",
    "grade=\"\";\n",
    "\n",
    "for marks in range(5):\n",
    "\n",
    "    subjects_marks.append(float(input(\"enter subject marks \" + str(marks+1) + \": \")))\n",
    "\n",
    "    \n",
    "for marks2 in range(len(subjects_marks)):\n",
    "    total = total + subjects_marks[marks2]\n",
    "\n",
    "per=float((total/total_marks) *100)\n",
    "print(\"Total Marks are : \" + str(total))\n",
    "print(\"Percentage is : \" + str(per))\n",
    "\n",
    "if per >= 80:\n",
    "    grade = \"Your grade is A+\"\n",
    "elif per >= 70 and per <= 79:\n",
    "    grade = \"Your grade is A\"\n",
    "elif per >=60 and per <= 69:\n",
    "    grade = \"Your grade is B \"\n",
    "elif per >= 50 and per <= 59:\n",
    "    grade = \"Your grade is C\"\n",
    "elif per >= 40 and per <= 49:\n",
    "    grade = \"Your grade is D\"\n",
    "elif per >= 33 and per <= 39:\n",
    "    grade = \"Your grade is E\"\n",
    "else:\n",
    "    grade = \"Your grade is Fail\"\n",
    "\n",
    "print(grade)\n"
   ]
  },
  {
   "cell_type": "code",
   "execution_count": 31,
   "metadata": {},
   "outputs": [
    {
     "name": "stdout",
     "output_type": "stream",
     "text": [
      "enter any number :38\n",
      "Even Number\n"
     ]
    }
   ],
   "source": [
    "#Q2 Write a program which take input from user and identify that the given number is even or odd?\n",
    "\n",
    "input_number=0;\n",
    "message=\"\";\n",
    "\n",
    "input_number = int(input(\"enter any number :\"))\n",
    "\n",
    "if input_number % 2 > 0 :\n",
    "    message=\"Odd number\"\n",
    "elif input_number % 2 == 0 :\n",
    "    message = \"Even Number\"\n",
    "        \n",
    "print (message)"
   ]
  },
  {
   "cell_type": "code",
   "execution_count": 33,
   "metadata": {},
   "outputs": [
    {
     "name": "stdout",
     "output_type": "stream",
     "text": [
      "5\n"
     ]
    }
   ],
   "source": [
    "#Q3 Write a program which print the length of the list?\n",
    "\n",
    "list = [1,2,3,4,5]\n",
    "print (len(list))"
   ]
  },
  {
   "cell_type": "code",
   "execution_count": 48,
   "metadata": {},
   "outputs": [
    {
     "name": "stdout",
     "output_type": "stream",
     "text": [
      "9\n"
     ]
    }
   ],
   "source": [
    "#Q4 Write a Python program to sum all the numeric items in a list?\n",
    "\n",
    "list = [1,'hh',3,'ff',5]\n",
    "sum_num=0\n",
    "\n",
    "for a in range(len(list)):\n",
    "    if str(list[a]).isdigit() :\n",
    "        sum_num= sum_num + list[a] \n",
    "        \n",
    "print(sum_num)"
   ]
  },
  {
   "cell_type": "code",
   "execution_count": 50,
   "metadata": {},
   "outputs": [
    {
     "name": "stdout",
     "output_type": "stream",
     "text": [
      "8\n"
     ]
    }
   ],
   "source": [
    "#Q5 Write a Python program to get the largest number from a numeric list.\n",
    "\n",
    "list = [1,2,8,4,5]\n",
    "\n",
    "print (max(list))\n"
   ]
  },
  {
   "cell_type": "code",
   "execution_count": 51,
   "metadata": {},
   "outputs": [
    {
     "name": "stdout",
     "output_type": "stream",
     "text": [
      "1\n",
      "1\n",
      "2\n",
      "3\n"
     ]
    }
   ],
   "source": [
    "#Q6 Take a list, say for example this one: a = [1, 1, 2, 3, 5, 8, 13, 21, 34, 55, 89]\n",
    "#and write a program that prints out all the elements of the list that are less than 5.\n",
    "\n",
    "list = [1, 1, 2, 3, 5, 8, 13, 21, 34, 55, 89]\n",
    "\n",
    "for a in range(len(list)):\n",
    "    if list[a] < 5 :\n",
    "        print (list[a]) \n",
    "        \n"
   ]
  },
  {
   "cell_type": "code",
   "execution_count": null,
   "metadata": {},
   "outputs": [],
   "source": []
  }
 ],
 "metadata": {
  "kernelspec": {
   "display_name": "Python 3",
   "language": "python",
   "name": "python3"
  },
  "language_info": {
   "codemirror_mode": {
    "name": "ipython",
    "version": 3
   },
   "file_extension": ".py",
   "mimetype": "text/x-python",
   "name": "python",
   "nbconvert_exporter": "python",
   "pygments_lexer": "ipython3",
   "version": "3.7.4"
  }
 },
 "nbformat": 4,
 "nbformat_minor": 2
}
