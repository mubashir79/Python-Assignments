{
 "cells": [
  {
   "cell_type": "code",
   "execution_count": 19,
   "metadata": {},
   "outputs": [
    {
     "name": "stdout",
     "output_type": "stream",
     "text": [
      "{'first_name': 'Ahmed', 'last_name': 'Farhan', 'age': 35, 'city': 'Karachi'}\n",
      "{'first_name': 'Ahmed', 'last_name': 'Farhan', 'age': 35, 'city': 'Karachi', 'Qualification': 'Masters in Computer Science'}\n",
      "{'first_name': 'Ahmed', 'last_name': 'Farhan', 'age': 35, 'city': 'Karachi'}\n"
     ]
    }
   ],
   "source": [
    "\"\"\"\n",
    "Q1 Use a dictionary to store information about a person you know. Store their first name, last name, age,\n",
    "and the city in which they live. You should have keys such as first_name, last_name, age, and city. Print\n",
    "each piece of information stored in your dictionary. Add a new key value pair about qualification then\n",
    "update the qualification value to high academic level then delete it.\n",
    "\"\"\"\n",
    "\n",
    "person = {\"first_name\":\"Ahmed\", \"last_name\":\"Farhan\", \"age\":35, \"city\":\"Karachi\"}\n",
    "\n",
    "print(person)\n",
    "\n",
    "#add new key in dictionary\n",
    "person[\"Qualification\"] = \"Masters in Computer Science\"\n",
    "\n",
    "#print with new key\n",
    "print(person)\n",
    "\n",
    "#del Qualification key\n",
    "del person[\"Qualification\"]#\n",
    "\n",
    "#print the dictionary after deleting new key\n",
    "print(person)\n"
   ]
  },
  {
   "cell_type": "code",
   "execution_count": 2,
   "metadata": {},
   "outputs": [
    {
     "name": "stdout",
     "output_type": "stream",
     "text": [
      "{'City_Name': 'Karachi', 'Country': 'Pakistan', 'Population': '14.91 million'}\n",
      "{'City_Name': 'Dubai', 'Country': 'UAE', 'Population': '3.137 million'}\n",
      "{'City_Name': 'Paris', 'Country': 'France', 'Population': '2.141 million'}\n"
     ]
    }
   ],
   "source": [
    "\"\"\"\n",
    "Q2 Make a dictionary called cities. Use the names of three cities as keys in your dictionary. Create a\n",
    "dictionary of information about each city and include the country that the city is in, its approximate\n",
    "population, and one fact about that city. The keys for each city’s dictionary should be something like\n",
    "country, population, and fact. Print the name of each city and all of the information you have stored\n",
    "about it.\n",
    "\"\"\"\n",
    "\n",
    "cities = [{\"City_Name\":\"Karachi\", \"Country\":\"Pakistan\", \"Population\":\"14.91 million\"}, \n",
    "{\"City_Name\":\"Dubai\", \"Country\":\"UAE\", \"Population\":\"3.137 million\"}, \n",
    "{\"City_Name\":\"Paris\", \"Country\":\"France\", \"Population\":\"2.141 million\"} \n",
    "]\n",
    "\n",
    "print(cities[0])\n",
    "print(cities[1])\n",
    "print(cities[2])\n"
   ]
  },
  {
   "cell_type": "code",
   "execution_count": 8,
   "metadata": {},
   "outputs": [
    {
     "name": "stdout",
     "output_type": "stream",
     "text": [
      "Enter your age, or q to quit:1\n",
      "Your movie ticket is Free\n",
      "Enter your age, or q to quit:4\n",
      "Your movie ticket is $10\n",
      "Enter your age, or q to quit:12\n",
      "Your movie ticket is $10\n",
      "Enter your age, or q to quit:15\n",
      "Your movie ticket is $15\n",
      "Enter your age, or q to quit:q\n"
     ]
    }
   ],
   "source": [
    "\"\"\"\n",
    "Q3 A movie theater charges different ticket prices depending on a person’s age. If a person is under the age\n",
    "of 3, the ticket is free; if they are between 3 and 12, the ticket is $10; and if they are over age 12, the\n",
    "ticket is $15. Write a loop in which you ask users their age, and then tell them the cost of their movie\n",
    "ticket.\n",
    "\"\"\"\n",
    "tickets = [{\"min_age\":0, \"max_age\":2, \"ticket_type\": \"Free\"},\n",
    "{\"min_age\":3, \"max_age\":12, \"ticket_type\": \"$10\"},\n",
    "{\"min_age\":13, \"max_age\":99, \"ticket_type\": \"$15\"}\n",
    "]\n",
    "\n",
    "user_input = \"\"\n",
    "while user_input != \"q\":\n",
    "  user_input = input(\"Enter your age, or q to quit:\")\n",
    "  if user_input != \"q\":\n",
    "      age = int(user_input)\n",
    "      for ticket in tickets:\n",
    "        if age  >= ticket[\"min_age\"] and age <= ticket[\"max_age\"]:\n",
    "          print(\"Your movie ticket is \" + str(ticket[\"ticket_type\"]))\n",
    "    \n",
    "\n"
   ]
  },
  {
   "cell_type": "code",
   "execution_count": 11,
   "metadata": {},
   "outputs": [
    {
     "name": "stdout",
     "output_type": "stream",
     "text": [
      "One of my favourite book is Alice in Wonderland\n"
     ]
    }
   ],
   "source": [
    "\"\"\"\n",
    "Q4 Write a function called favorite_book() that accepts one parameter, title. The function should print a\n",
    "message, such as One of my favorite books is Alice in Wonderland. Call the function, making sure to\n",
    "include a book title as an argument in the function call.\n",
    "\"\"\"\n",
    "\n",
    "def favourite_book(title):\n",
    "    print(\"One of my favourite book is \" + str(title))\n",
    "    \n",
    "favourite_book(\"Alice in Wonderland\")"
   ]
  },
  {
   "cell_type": "code",
   "execution_count": 18,
   "metadata": {},
   "outputs": [
    {
     "name": "stdout",
     "output_type": "stream",
     "text": [
      "5\n",
      "Please guess the correct number: 1\n",
      "Correct number is greater then your input number\n",
      "Please guess the correct number: 5\n",
      "Correct Number!\n"
     ]
    }
   ],
   "source": [
    "\"\"\"\n",
    "Q5 Write a program which randomly generate a number between 1 to 30 and ask the user in input field to\n",
    "guess the correct number. Give three chances to user guess the number and also give hint to user if\n",
    "hidden number is greater or smaller than the number he given to input field.\n",
    "\n",
    "\"\"\"\n",
    "\n",
    "import random\n",
    "\n",
    "hidden = random. randrange(1, 30)\n",
    "user_attempts = 0\n",
    "success=False\n",
    "\n",
    "while user_attempts < 3:\n",
    "    user_attempts += 1 \n",
    "    guess = int(input(\"Please guess the correct number: \"))\n",
    "    if guess == hidden:\n",
    "        print(\"Correct Number!\")\n",
    "        success=True\n",
    "        break\n",
    "    elif guess < hidden:\n",
    "        print(\"Correct number is greater then your input number\")\n",
    "    elif guess > hidden:\n",
    "        print(\"Correct number is smaller then your input number\")\n",
    "\n",
    "if success == False :\n",
    "    print(\"You have not guess -- Correct number is \" + str(hidden) )\n"
   ]
  },
  {
   "cell_type": "code",
   "execution_count": null,
   "metadata": {},
   "outputs": [],
   "source": []
  },
  {
   "cell_type": "markdown",
   "metadata": {},
   "source": [
    "## "
   ]
  }
 ],
 "metadata": {
  "kernelspec": {
   "display_name": "Python 3",
   "language": "python",
   "name": "python3"
  },
  "language_info": {
   "codemirror_mode": {
    "name": "ipython",
    "version": 3
   },
   "file_extension": ".py",
   "mimetype": "text/x-python",
   "name": "python",
   "nbconvert_exporter": "python",
   "pygments_lexer": "ipython3",
   "version": "3.7.4"
  }
 },
 "nbformat": 4,
 "nbformat_minor": 2
}
