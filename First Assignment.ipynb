{
 "cells": [
  {
   "cell_type": "code",
   "execution_count": 25,
   "metadata": {},
   "outputs": [
    {
     "name": "stdout",
     "output_type": "stream",
     "text": [
      "Twinkle, twinkle, little star,\n",
      "      How I wonder what you are!\n",
      "            Up above the world so high,\n",
      "            Like a diamond in the sky.\n",
      "Twinkle, twinkle, little star,\n",
      "      How I wonder what you are\n",
      "Twinkle, twinkle, little star,\n",
      "      How I wonder what you are;\n",
      "            Up above the world so high,\n",
      "            Like a diamond in the sky.\n",
      "Twinkle, twinkle, little star,\n",
      "      How I wonder what you are;\n"
     ]
    }
   ],
   "source": [
    "#Q1Write a Python program to print the following string in a specific format (see the output).\n",
    "\n",
    "#option 1\n",
    "\n",
    "print(\"Twinkle, twinkle, little star,\");\n",
    "print(\"      How I wonder what you are!\");\n",
    "print(\"            Up above the world so high,\");\n",
    "print(\"            Like a diamond in the sky.\");\n",
    "print(\"Twinkle, twinkle, little star,\");\n",
    "print(\"      How I wonder what you are\");\n",
    "\n",
    "#option 2\n",
    "\n",
    "line1 = \"Twinkle, twinkle, little star,\";\n",
    "line2 = \"How I wonder what you are;\";\n",
    "line3 = \"Up above the world so high,\";\n",
    "line4 = \"Like a diamond in the sky.\";\n",
    "separator1 = \"      \";\n",
    "separator2 = \"            \";\n",
    "\n",
    "print(line1);\n",
    "print(separator1 + line2);\n",
    "print(separator2 + line3);\n",
    "print(separator2 + line4);\n",
    "print(line1);\n",
    "print(separator1 + line2);\n"
   ]
  },
  {
   "cell_type": "code",
   "execution_count": 4,
   "metadata": {},
   "outputs": [
    {
     "name": "stdout",
     "output_type": "stream",
     "text": [
      "3.7.4\n"
     ]
    }
   ],
   "source": [
    "#Q2 Print Pthon Version\n",
    "import platform\n",
    "print(platform.python_version())\n"
   ]
  },
  {
   "cell_type": "code",
   "execution_count": 13,
   "metadata": {},
   "outputs": [
    {
     "name": "stdout",
     "output_type": "stream",
     "text": [
      "01-Nov-2019 14:58:00\n"
     ]
    }
   ],
   "source": [
    "#Q3 Print Current Date and Time\n",
    "from datetime import datetime\n",
    "\n",
    "now = datetime.now();\n",
    "now = now.strftime(\"%d-%b-%Y %H:%M:%S\")\n",
    "\n",
    "print (now);"
   ]
  },
  {
   "cell_type": "code",
   "execution_count": 15,
   "metadata": {},
   "outputs": [
    {
     "name": "stdout",
     "output_type": "stream",
     "text": [
      "Enter the radius of a circle3\n",
      "28.274333882308138\n"
     ]
    }
   ],
   "source": [
    "#Q4 Write a Python program which accepts the radius of a circle from the user and compute the area.\n",
    "import math\n",
    "\n",
    "radius  = input(\"Enter the radius of a circle\");\n",
    "radius  = int(radius);\n",
    "area = math.pi * (radius * radius);\n",
    "print(area);"
   ]
  },
  {
   "cell_type": "code",
   "execution_count": 26,
   "metadata": {},
   "outputs": [
    {
     "name": "stdout",
     "output_type": "stream",
     "text": [
      "Enter your first namehussain\n",
      "Enter your last namemubashir\n",
      "mubashir hussain\n"
     ]
    }
   ],
   "source": [
    "#Q5 Write a Python program which accepts the user's first and last name and\n",
    "#print them in reverse order with a space between them.\n",
    "\n",
    "first_name = input(\"Enter your first name\");\n",
    "last_name= input(\"Enter your last name\");\n",
    "separator = \" \";\n",
    "\n",
    "print(last_name + separator + _first_name);\n",
    "\n"
   ]
  },
  {
   "cell_type": "code",
   "execution_count": 22,
   "metadata": {},
   "outputs": [
    {
     "name": "stdout",
     "output_type": "stream",
     "text": [
      "Enter your 1st number 4\n",
      "Enter your 2nd number 66\n",
      "70\n"
     ]
    }
   ],
   "source": [
    "#Q6. Write a python program which takes two inputs from user and print them addition\n",
    "\n",
    "\n",
    "first_number = int(input(\"Enter your 1st number \"));\n",
    "second_number = int(input(\"Enter your 2nd number \"));\n",
    "\n",
    "result = first_number + second_number \n",
    "print(result);\n",
    "\n"
   ]
  },
  {
   "cell_type": "code",
   "execution_count": null,
   "metadata": {},
   "outputs": [],
   "source": []
  },
  {
   "cell_type": "code",
   "execution_count": null,
   "metadata": {},
   "outputs": [],
   "source": []
  }
 ],
 "metadata": {
  "kernelspec": {
   "display_name": "Python 3",
   "language": "python",
   "name": "python3"
  },
  "language_info": {
   "codemirror_mode": {
    "name": "ipython",
    "version": 3
   },
   "file_extension": ".py",
   "mimetype": "text/x-python",
   "name": "python",
   "nbconvert_exporter": "python",
   "pygments_lexer": "ipython3",
   "version": "3.7.4"
  }
 },
 "nbformat": 4,
 "nbformat_minor": 2
}
